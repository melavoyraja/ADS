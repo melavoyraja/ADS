{
 "cells": [
  {
   "cell_type": "code",
   "execution_count": 25,
   "metadata": {
    "collapsed": true
   },
   "outputs": [],
   "source": [
    "#Read Data from data.csv\n",
    "test = read.csv(\"data.csv\")"
   ]
  },
  {
   "cell_type": "code",
   "execution_count": 26,
   "metadata": {
    "collapsed": false
   },
   "outputs": [
    {
     "data": {
      "text/html": [
       "3.52171428571429"
      ],
      "text/latex": [
       "3.52171428571429"
      ],
      "text/markdown": [
       "3.52171428571429"
      ],
      "text/plain": [
       "[1] 3.521714"
      ]
     },
     "metadata": {},
     "output_type": "display_data"
    }
   ],
   "source": [
    "#Calculate Mean of GPA\n",
    "mean(test[,\"GPA\"])"
   ]
  },
  {
   "cell_type": "code",
   "execution_count": 27,
   "metadata": {
    "collapsed": false
   },
   "outputs": [
    {
     "data": {
      "text/html": [
       "3.5"
      ],
      "text/latex": [
       "3.5"
      ],
      "text/markdown": [
       "3.5"
      ],
      "text/plain": [
       "[1] 3.5"
      ]
     },
     "metadata": {},
     "output_type": "display_data"
    }
   ],
   "source": [
    "#Calculate Median of GPA\n",
    "median(test[,\"GPA\"])"
   ]
  },
  {
   "cell_type": "code",
   "execution_count": 28,
   "metadata": {
    "collapsed": false
   },
   "outputs": [
    {
     "data": {
      "text/html": [
       "3.06"
      ],
      "text/latex": [
       "3.06"
      ],
      "text/markdown": [
       "3.06"
      ],
      "text/plain": [
       "[1] 3.06"
      ]
     },
     "metadata": {},
     "output_type": "display_data"
    }
   ],
   "source": [
    "#Minimum of GPA\n",
    "min(test[,\"GPA\"])"
   ]
  },
  {
   "cell_type": "code",
   "execution_count": 29,
   "metadata": {
    "collapsed": false
   },
   "outputs": [
    {
     "data": {
      "text/html": [
       "4"
      ],
      "text/latex": [
       "4"
      ],
      "text/markdown": [
       "4"
      ],
      "text/plain": [
       "[1] 4"
      ]
     },
     "metadata": {},
     "output_type": "display_data"
    }
   ],
   "source": [
    "#Maximum of GPA\n",
    "max(test[,\"GPA\"])"
   ]
  },
  {
   "cell_type": "code",
   "execution_count": 30,
   "metadata": {
    "collapsed": false
   },
   "outputs": [
    {
     "data": {
      "text/html": [
       "2.87428571428571"
      ],
      "text/latex": [
       "2.87428571428571"
      ],
      "text/markdown": [
       "2.87428571428571"
      ],
      "text/plain": [
       "[1] 2.874286"
      ]
     },
     "metadata": {},
     "output_type": "display_data"
    }
   ],
   "source": [
    "#Calculate Average of Years of Experience\n",
    "mean(test[,\"Years.of.work.experience\"])"
   ]
  },
  {
   "cell_type": "code",
   "execution_count": 31,
   "metadata": {
    "collapsed": false
   },
   "outputs": [
    {
     "data": {
      "text/html": [
       "2.5"
      ],
      "text/latex": [
       "2.5"
      ],
      "text/markdown": [
       "2.5"
      ],
      "text/plain": [
       "[1] 2.5"
      ]
     },
     "metadata": {},
     "output_type": "display_data"
    }
   ],
   "source": [
    "#Calculate Median of Years of Experience\n",
    "median(test[,\"Years.of.work.experience\"])"
   ]
  },
  {
   "cell_type": "code",
   "execution_count": 32,
   "metadata": {
    "collapsed": false
   },
   "outputs": [
    {
     "data": {
      "text/html": [
       "1"
      ],
      "text/latex": [
       "1"
      ],
      "text/markdown": [
       "1"
      ],
      "text/plain": [
       "[1] 1"
      ]
     },
     "metadata": {},
     "output_type": "display_data"
    }
   ],
   "source": [
    "#Minimum of Years of Experience\n",
    "min(test[,\"Years.of.work.experience\"])"
   ]
  },
  {
   "cell_type": "code",
   "execution_count": 33,
   "metadata": {
    "collapsed": false
   },
   "outputs": [
    {
     "data": {
      "text/html": [
       "6"
      ],
      "text/latex": [
       "6"
      ],
      "text/markdown": [
       "6"
      ],
      "text/plain": [
       "[1] 6"
      ]
     },
     "metadata": {},
     "output_type": "display_data"
    }
   ],
   "source": [
    "#Maximum of Years of Experience\n",
    "max(test[,\"Years.of.work.experience\"])"
   ]
  },
  {
   "cell_type": "code",
   "execution_count": 34,
   "metadata": {
    "collapsed": false
   },
   "outputs": [
    {
     "data": {
      "text/html": [
       "'60000'"
      ],
      "text/latex": [
       "'60000'"
      ],
      "text/markdown": [
       "'60000'"
      ],
      "text/plain": [
       "[1] \"60000\""
      ]
     },
     "metadata": {},
     "output_type": "display_data"
    }
   ],
   "source": [
    "#Mode of Salary\n",
    "mode <- table(test[,4])\n",
    "names(mode)[mode == max(mode)]"
   ]
  },
  {
   "cell_type": "code",
   "execution_count": 35,
   "metadata": {
    "collapsed": false,
    "scrolled": true
   },
   "outputs": [
    {
     "name": "stdout",
     "output_type": "stream",
     "text": [
      "[1] \"Percentage of Students not having Co-Op\"\n"
     ]
    },
    {
     "data": {
      "text/html": [
       "<strong>N:</strong> 31.4285714285714"
      ],
      "text/latex": [
       "\\textbf{N:} 31.4285714285714"
      ],
      "text/markdown": [
       "**N:** 31.4285714285714"
      ],
      "text/plain": [
       "       N \n",
       "31.42857 "
      ]
     },
     "metadata": {},
     "output_type": "display_data"
    },
    {
     "name": "stdout",
     "output_type": "stream",
     "text": [
      "[1] \"Percentage of Students having Co-Op\"\n"
     ]
    },
    {
     "data": {
      "text/html": [
       "<strong>Y:</strong> 68.5714285714286"
      ],
      "text/latex": [
       "\\textbf{Y:} 68.5714285714286"
      ],
      "text/markdown": [
       "**Y:** 68.5714285714286"
      ],
      "text/plain": [
       "       Y \n",
       "68.57143 "
      ]
     },
     "metadata": {},
     "output_type": "display_data"
    }
   ],
   "source": [
    "#Percentage of Students having Co-Op and not having Co-Op\n",
    "countYN <- table(test[,7])\n",
    "totalYN <- countYN[\"Y\"] + countYN[\"N\"]\n",
    "print(\"Percentage of Students not having Co-Op\")\n",
    "(countYN[\"N\"]/totalYN)*100\n",
    "print(\"Percentage of Students having Co-Op\")\n",
    "(countYN[\"Y\"]/totalYN)*100"
   ]
  },
  {
   "cell_type": "code",
   "execution_count": 36,
   "metadata": {
    "collapsed": false
   },
   "outputs": [
    {
     "name": "stdout",
     "output_type": "stream",
     "text": [
      "TRUE \n",
      "  11 \n"
     ]
    }
   ],
   "source": [
    "#Number of students having LinkedIn contacts more than 500\n",
    "print(table(test[,\"Number.of.contacts.on.Linkedin\"]>500)[\"TRUE\"])"
   ]
  },
  {
   "cell_type": "code",
   "execution_count": 37,
   "metadata": {
    "collapsed": false
   },
   "outputs": [
    {
     "data": {
      "text/html": [
       "10000"
      ],
      "text/latex": [
       "10000"
      ],
      "text/markdown": [
       "10000"
      ],
      "text/plain": [
       "[1] 10000"
      ]
     },
     "metadata": {},
     "output_type": "display_data"
    }
   ],
   "source": [
    "#Inter Quartile Range of Expected Salary After Graduation\n",
    "IQR(test[,\"Expected.Salary.after.graduation\"])"
   ]
  },
  {
   "cell_type": "code",
   "execution_count": null,
   "metadata": {
    "collapsed": true
   },
   "outputs": [],
   "source": []
  }
 ],
 "metadata": {
  "anaconda-cloud": {},
  "kernelspec": {
   "display_name": "R",
   "language": "R",
   "name": "ir"
  },
  "language_info": {
   "codemirror_mode": "r",
   "file_extension": ".r",
   "mimetype": "text/x-r-source",
   "name": "R",
   "pygments_lexer": "r",
   "version": "3.3.2"
  }
 },
 "nbformat": 4,
 "nbformat_minor": 1
}
