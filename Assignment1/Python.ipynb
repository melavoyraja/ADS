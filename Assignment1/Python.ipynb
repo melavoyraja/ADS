{
 "cells": [
  {
   "cell_type": "code",
   "execution_count": 93,
   "metadata": {
    "collapsed": false
   },
   "outputs": [],
   "source": [
    "import numpy\n",
    "from scipy import stats\n",
    "from scipy.stats import iqr\n",
    "input = numpy.recfromcsv('data.csv')\n"
   ]
  },
  {
   "cell_type": "code",
   "execution_count": 94,
   "metadata": {
    "collapsed": false
   },
   "outputs": [
    {
     "data": {
      "text/plain": [
       "rec.array([(1, 3.5, 2.5, 45000, 3.5, 3.5, b'N', 250, 90000),\n",
       " (3, 3.8, 1.0, 65000, 3.6, 3.0, b'Y', 400, 100000),\n",
       " (4, 3.8, 2.0, 85000, 4.0, 3.6, b'Y', 500, 90000),\n",
       " (5, 3.41, 1.5, 10000, 3.41, 3.33, b'N', 365, 100000),\n",
       " (6, 3.33, 5.0, 70000, 3.67, 3.0, b'Y', 400, 100000),\n",
       " (7, 3.52, 2.5, 27000, 3.58, 3.52, b'N', 230, 85000),\n",
       " (8, 3.5, 2.0, 40000, 3.7, 3.3, b'N', 250, 90000),\n",
       " (9, 3.5, 5.0, 75000, 3.53, 3.3, b'Y', 260, 100000),\n",
       " (10, 3.6, 2.5, 65000, 3.9, 3.1, b'Y', 250, 110000),\n",
       " (11, 3.2, 4.0, 62000, 3.8, 3.0, b'N', 525, 105000),\n",
       " (12, 3.5, 2.0, 60000, 3.5, 3.5, b'N', 400, 85000),\n",
       " (13, 3.67, 1.8, 60000, 4.0, 3.0, b'N', 920, 140000),\n",
       " (14, 3.5, 2.0, 60000, 3.7, 3.3, b'Y', 300, 90000),\n",
       " (15, 3.47, 2.5, 70000, 3.64, 3.37, b'Y', 310, 95000),\n",
       " (16, 3.06, 1.3, 40000, 3.64, 2.67, b'Y', 550, 120000),\n",
       " (17, 3.27, 2.0, 60000, 4.0, 3.0, b'Y', 350, 100000),\n",
       " (18, 3.53, 4.0, 50000, 4.0, 3.3, b'N', 600, 88000),\n",
       " (19, 4.0, 4.0, 50000, 4.0, 4.0, b'Y', 500, 130000),\n",
       " (20, 3.4, 1.0, 30000, 3.6, 3.1, b'N', 500, 80000),\n",
       " (21, 3.54, 1.0, 40000, 4.0, 3.42, b'Y', 650, 95000),\n",
       " (22, 3.5, 2.0, 75000, 4.0, 3.0, b'Y', 515, 80000),\n",
       " (23, 3.5, 4.0, 50000, 3.8, 3.2, b'Y', 350, 110000),\n",
       " (24, 3.4, 3.0, 50000, 3.8, 3.2, b'Y', 301, 90000),\n",
       " (25, 3.93, 5.0, 0, 4.0, 3.8, b'N', 600, 100000),\n",
       " (26, 3.3, 4.0, 65000, 4.0, 3.65, b'Y', 700, 100000),\n",
       " (27, 3.9, 6.0, 90000, 4.0, 3.8, b'Y', 809, 120000),\n",
       " (28, 3.17, 1.0, 50000, 3.3, 3.0, b'N', 258, 100000),\n",
       " (29, 3.48, 3.5, 60000, 4.0, 3.33, b'Y', 350, 100000),\n",
       " (30, 3.93, 4.0, 43000, 4.0, 3.28, b'Y', 900, 100000),\n",
       " (31, 3.43, 4.0, 60000, 3.5, 3.3, b'Y', 220, 110000),\n",
       " (32, 3.33, 5.0, 5000, 3.66, 3.0, b'Y', 183, 100000),\n",
       " (33, 3.6, 1.5, 60000, 3.7, 3.4, b'Y', 340, 100000),\n",
       " (34, 3.8, 3.0, 65000, 3.8, 3.5, b'Y', 800, 80000),\n",
       " (35, 3.5, 3.0, 65000, 4.0, 3.6, b'Y', 400, 80000),\n",
       " (36, 3.39, 2.0, 60000, 3.8, 3.2, b'Y', 500, 90000)], \n",
       "          dtype=[('no', '<i8'), ('gpa', '<f8'), ('years_of_work_experience', '<f8'), ('latest_salary_per_year', '<i8'), ('highest_gpa', '<f8'), ('lowest_gpa', '<f8'), ('coopsinternships_yn', 'S1'), ('number_of_contacts_on_linkedin', '<i8'), ('expected_salary_after_graduation', '<i8')])"
      ]
     },
     "execution_count": 94,
     "metadata": {},
     "output_type": "execute_result"
    }
   ],
   "source": [
    "input"
   ]
  },
  {
   "cell_type": "code",
   "execution_count": 95,
   "metadata": {
    "collapsed": false
   },
   "outputs": [
    {
     "name": "stdout",
     "output_type": "stream",
     "text": [
      "[ 3.5   3.8   3.8   3.41  3.33  3.52  3.5   3.5   3.6   3.2   3.5   3.67\n",
      "  3.5   3.47  3.06  3.27  3.53  4.    3.4   3.54  3.5   3.5   3.4   3.93\n",
      "  3.3   3.9   3.17  3.48  3.93  3.43  3.33  3.6   3.8   3.5   3.39]\n"
     ]
    }
   ],
   "source": [
    "print(input['gpa'])"
   ]
  },
  {
   "cell_type": "code",
   "execution_count": 96,
   "metadata": {
    "collapsed": false
   },
   "outputs": [
    {
     "data": {
      "text/plain": [
       "3.0600000000000001"
      ]
     },
     "execution_count": 96,
     "metadata": {},
     "output_type": "execute_result"
    }
   ],
   "source": [
    "numpy.min(input['gpa'])"
   ]
  },
  {
   "cell_type": "code",
   "execution_count": 97,
   "metadata": {
    "collapsed": false
   },
   "outputs": [
    {
     "data": {
      "text/plain": [
       "4.0"
      ]
     },
     "execution_count": 97,
     "metadata": {},
     "output_type": "execute_result"
    }
   ],
   "source": [
    "numpy.max(input['gpa'])"
   ]
  },
  {
   "cell_type": "code",
   "execution_count": 98,
   "metadata": {
    "collapsed": false
   },
   "outputs": [
    {
     "data": {
      "text/plain": [
       "3.5217142857142854"
      ]
     },
     "execution_count": 98,
     "metadata": {},
     "output_type": "execute_result"
    }
   ],
   "source": [
    "numpy.mean(input['gpa'])"
   ]
  },
  {
   "cell_type": "code",
   "execution_count": 99,
   "metadata": {
    "collapsed": false
   },
   "outputs": [
    {
     "data": {
      "text/plain": [
       "3.5"
      ]
     },
     "execution_count": 99,
     "metadata": {},
     "output_type": "execute_result"
    }
   ],
   "source": [
    "numpy.median(input['gpa'])"
   ]
  },
  {
   "cell_type": "code",
   "execution_count": 100,
   "metadata": {
    "collapsed": false
   },
   "outputs": [
    {
     "data": {
      "text/plain": [
       "1.0"
      ]
     },
     "execution_count": 100,
     "metadata": {},
     "output_type": "execute_result"
    }
   ],
   "source": [
    "numpy.min(input['years_of_work_experience'])"
   ]
  },
  {
   "cell_type": "code",
   "execution_count": 101,
   "metadata": {
    "collapsed": false
   },
   "outputs": [
    {
     "data": {
      "text/plain": [
       "6.0"
      ]
     },
     "execution_count": 101,
     "metadata": {},
     "output_type": "execute_result"
    }
   ],
   "source": [
    "numpy.max(input['years_of_work_experience'])"
   ]
  },
  {
   "cell_type": "code",
   "execution_count": 102,
   "metadata": {
    "collapsed": false
   },
   "outputs": [
    {
     "data": {
      "text/plain": [
       "2.8742857142857141"
      ]
     },
     "execution_count": 102,
     "metadata": {},
     "output_type": "execute_result"
    }
   ],
   "source": [
    "numpy.mean(input['years_of_work_experience'])"
   ]
  },
  {
   "cell_type": "code",
   "execution_count": 103,
   "metadata": {
    "collapsed": false
   },
   "outputs": [
    {
     "data": {
      "text/plain": [
       "2.5"
      ]
     },
     "execution_count": 103,
     "metadata": {},
     "output_type": "execute_result"
    }
   ],
   "source": [
    "numpy.median(input['years_of_work_experience'])"
   ]
  },
  {
   "cell_type": "code",
   "execution_count": 104,
   "metadata": {
    "collapsed": false
   },
   "outputs": [
    {
     "data": {
      "text/plain": [
       "ModeResult(mode=array([60000]), count=array([8]))"
      ]
     },
     "execution_count": 104,
     "metadata": {},
     "output_type": "execute_result"
    }
   ],
   "source": [
    "stats.mode(input['latest_salary_per_year'],axis=None)"
   ]
  },
  {
   "cell_type": "code",
   "execution_count": 105,
   "metadata": {
    "collapsed": false
   },
   "outputs": [],
   "source": [
    "unique, counts = numpy.unique(input['coopsinternships_yn'], return_counts=True)"
   ]
  },
  {
   "cell_type": "code",
   "execution_count": 106,
   "metadata": {
    "collapsed": false
   },
   "outputs": [
    {
     "data": {
      "text/plain": [
       "(array([b'N', b'Y'], \n",
       "       dtype='|S1'), array([11, 24]))"
      ]
     },
     "execution_count": 106,
     "metadata": {},
     "output_type": "execute_result"
    }
   ],
   "source": [
    "unique, counts"
   ]
  },
  {
   "cell_type": "code",
   "execution_count": 107,
   "metadata": {
    "collapsed": false
   },
   "outputs": [
    {
     "name": "stdout",
     "output_type": "stream",
     "text": [
      "Percentage of Students not having Co-Op: 31.4285714286\n",
      "Percentage of Students having Co-Op: 68.5714285714\n"
     ]
    }
   ],
   "source": [
    "print(\"Percentage of Students not having Co-Op: \"+str((counts[0]/(counts[0]+counts[1]))*100))\n",
    "print(\"Percentage of Students having Co-Op: \"+str((counts[1]/(counts[0]+counts[1]))*100))"
   ]
  },
  {
   "cell_type": "code",
   "execution_count": 108,
   "metadata": {
    "collapsed": false
   },
   "outputs": [
    {
     "data": {
      "text/plain": [
       "35"
      ]
     },
     "execution_count": 108,
     "metadata": {},
     "output_type": "execute_result"
    }
   ],
   "source": [
    "len(input['number_of_contacts_on_linkedin']>500)"
   ]
  },
  {
   "cell_type": "code",
   "execution_count": 109,
   "metadata": {
    "collapsed": false
   },
   "outputs": [
    {
     "data": {
      "text/plain": [
       "10000.0"
      ]
     },
     "execution_count": 109,
     "metadata": {},
     "output_type": "execute_result"
    }
   ],
   "source": [
    "iqr(input['expected_salary_after_graduation'])"
   ]
  },
  {
   "cell_type": "code",
   "execution_count": null,
   "metadata": {
    "collapsed": true
   },
   "outputs": [],
   "source": []
  }
 ],
 "metadata": {
  "anaconda-cloud": {},
  "kernelspec": {
   "display_name": "Python [default]",
   "language": "python",
   "name": "python3"
  },
  "language_info": {
   "codemirror_mode": {
    "name": "ipython",
    "version": 3
   },
   "file_extension": ".py",
   "mimetype": "text/x-python",
   "name": "python",
   "nbconvert_exporter": "python",
   "pygments_lexer": "ipython3",
   "version": "3.5.2"
  }
 },
 "nbformat": 4,
 "nbformat_minor": 1
}
